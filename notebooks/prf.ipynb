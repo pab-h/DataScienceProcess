{
 "cells": [
  {
   "cell_type": "markdown",
   "id": "58c9f244",
   "metadata": {},
   "source": [
    "# Classificação - Dados Abertos da PRF"
   ]
  },
  {
   "cell_type": "markdown",
   "id": "b5785eff",
   "metadata": {},
   "source": [
    "## Carregando as bibliotecas"
   ]
  },
  {
   "cell_type": "code",
   "execution_count": 7,
   "id": "31ec316c",
   "metadata": {},
   "outputs": [],
   "source": [
    "import pandas            as pd\n",
    "import matplotlib.pyplot as plt\n",
    "import numpy             as np"
   ]
  },
  {
   "cell_type": "markdown",
   "id": "84c2e308",
   "metadata": {},
   "source": [
    "## Carregando o dataset"
   ]
  },
  {
   "cell_type": "code",
   "execution_count": 8,
   "id": "999750c1",
   "metadata": {},
   "outputs": [],
   "source": [
    "datatran2025 = pd.read_csv(\n",
    "    \"../dataset/prf/datatran2025.csv\",\n",
    "    sep\t\t = \";\",\n",
    "    encoding = \"latin1\"\n",
    ")"
   ]
  },
  {
   "cell_type": "code",
   "execution_count": 9,
   "id": "e6e8a005",
   "metadata": {},
   "outputs": [
    {
     "name": "stdout",
     "output_type": "stream",
     "text": [
      "<class 'pandas.core.frame.DataFrame'>\n",
      "RangeIndex: 28598 entries, 0 to 28597\n",
      "Data columns (total 30 columns):\n",
      " #   Column                  Non-Null Count  Dtype \n",
      "---  ------                  --------------  ----- \n",
      " 0   id                      28598 non-null  int64 \n",
      " 1   data_inversa            28598 non-null  object\n",
      " 2   dia_semana              28598 non-null  object\n",
      " 3   horario                 28598 non-null  object\n",
      " 4   uf                      28598 non-null  object\n",
      " 5   br                      28598 non-null  int64 \n",
      " 6   km                      28598 non-null  object\n",
      " 7   municipio               28598 non-null  object\n",
      " 8   causa_acidente          28598 non-null  object\n",
      " 9   tipo_acidente           28597 non-null  object\n",
      " 10  classificacao_acidente  28596 non-null  object\n",
      " 11  fase_dia                28598 non-null  object\n",
      " 12  sentido_via             28598 non-null  object\n",
      " 13  condicao_metereologica  28598 non-null  object\n",
      " 14  tipo_pista              28598 non-null  object\n",
      " 15  tracado_via             28598 non-null  object\n",
      " 16  uso_solo                28598 non-null  object\n",
      " 17  pessoas                 28598 non-null  int64 \n",
      " 18  mortos                  28598 non-null  int64 \n",
      " 19  feridos_leves           28598 non-null  int64 \n",
      " 20  feridos_graves          28598 non-null  int64 \n",
      " 21  ilesos                  28598 non-null  int64 \n",
      " 22  ignorados               28598 non-null  int64 \n",
      " 23  feridos                 28598 non-null  int64 \n",
      " 24  veiculos                28598 non-null  int64 \n",
      " 25  latitude                28598 non-null  object\n",
      " 26  longitude               28598 non-null  object\n",
      " 27  regional                28598 non-null  object\n",
      " 28  delegacia               28591 non-null  object\n",
      " 29  uop                     28586 non-null  object\n",
      "dtypes: int64(10), object(20)\n",
      "memory usage: 6.5+ MB\n"
     ]
    }
   ],
   "source": [
    "datatran2025.info()"
   ]
  },
  {
   "cell_type": "markdown",
   "id": "c169a0fb",
   "metadata": {},
   "source": [
    "## Preprocessamento do dataset"
   ]
  },
  {
   "cell_type": "markdown",
   "id": "077270c4",
   "metadata": {},
   "source": [
    "## Analise Exploratória"
   ]
  },
  {
   "cell_type": "markdown",
   "id": "750e90d2",
   "metadata": {},
   "source": [
    "## Seleção dos atributos"
   ]
  },
  {
   "cell_type": "markdown",
   "id": "8d31ae6a",
   "metadata": {},
   "source": [
    "## Hold out do dataset"
   ]
  },
  {
   "cell_type": "markdown",
   "id": "3f277ae6",
   "metadata": {},
   "source": [
    "## Treinamento do modelo"
   ]
  },
  {
   "cell_type": "markdown",
   "id": "9e7910c7",
   "metadata": {},
   "source": [
    "## Teste do modelo"
   ]
  }
 ],
 "metadata": {
  "kernelspec": {
   "display_name": ".venv",
   "language": "python",
   "name": "python3"
  },
  "language_info": {
   "codemirror_mode": {
    "name": "ipython",
    "version": 3
   },
   "file_extension": ".py",
   "mimetype": "text/x-python",
   "name": "python",
   "nbconvert_exporter": "python",
   "pygments_lexer": "ipython3",
   "version": "3.13.0"
  }
 },
 "nbformat": 4,
 "nbformat_minor": 5
}
